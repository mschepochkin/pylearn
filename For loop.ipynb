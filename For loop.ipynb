{
 "cells": [
  {
   "cell_type": "code",
   "execution_count": 6,
   "metadata": {},
   "outputs": [
    {
     "name": "stdout",
     "output_type": "stream",
     "text": [
      "r is: aa<class 'str'>\n",
      "r is: bb<class 'str'>\n",
      "r is: cc<class 'str'>\n",
      "r is: 1<class 'int'>\n"
     ]
    }
   ],
   "source": [
    "lst = ['aa', 'bb', \"cc\", 1]\n",
    "type(lst)\n",
    "\n",
    "a = lst\n",
    "for r in a:\n",
    "    print(\"r is: \" + str(r) + str(type(r)))"
   ]
  },
  {
   "cell_type": "code",
   "execution_count": 8,
   "metadata": {},
   "outputs": [
    {
     "name": "stdout",
     "output_type": "stream",
     "text": [
      "<class 'list'>\n"
     ]
    }
   ],
   "source": [
    "print(str(type(list(range(1,3)))))"
   ]
  },
  {
   "cell_type": "code",
   "execution_count": 14,
   "metadata": {},
   "outputs": [
    {
     "name": "stdout",
     "output_type": "stream",
     "text": [
      "<class 'list'>\n",
      "<class 'list'>\n",
      "r is: 1<class 'int'>\n",
      "r is: 2<class 'int'>\n",
      "r is: 3<class 'int'>\n"
     ]
    }
   ],
   "source": [
    "lst = ['aa', 'bb', \"cc\", 1]\n",
    "type(lst)\n",
    "\n",
    "a = lst\n",
    "print(str(type(a)))\n",
    "lst = range(1,4)\n",
    "print(str(type(a)))\n",
    "for r in lst:\n",
    "    print(\"r is: \" + str(r) + str(type(r)))"
   ]
  },
  {
   "cell_type": "markdown",
   "metadata": {},
   "source": [
    "#Range and list are different classes but could be assigned to each other."
   ]
  },
  {
   "cell_type": "markdown",
   "metadata": {},
   "source": [
    "---"
   ]
  },
  {
   "cell_type": "code",
   "execution_count": 17,
   "metadata": {},
   "outputs": [
    {
     "name": "stdout",
     "output_type": "stream",
     "text": [
      "Interesting for me  0\n",
      "Interesting for me  0.1\n",
      "Interesting for me  0.2\n",
      "Interesting for me  0.30000000000000004\n",
      "Interesting for me  0.4\n",
      "Interesting for me  0.5\n",
      "Interesting for me  0.6\n",
      "Interesting for me  0.7\n",
      "Interesting for me  0.7999999999999999\n",
      "Interesting for me  0.8999999999999999\n",
      "Interesting for me  0.9999999999999999\n",
      "Interesting for me  1.0999999999999999\n",
      "Interesting for me  1.2\n",
      "Interesting for me  1.3\n",
      "Interesting for me  1.4000000000000001\n",
      "Interesting for me  1.5000000000000002\n",
      "Interesting for me  1.6000000000000003\n",
      "Interesting for me  1.7000000000000004\n",
      "Interesting for me  1.8000000000000005\n",
      "Interesting for me  1.9000000000000006\n",
      "Interesting for me  2.0000000000000004\n",
      "Interesting for me  2.1000000000000005\n",
      "Interesting for me  2.2000000000000006\n",
      "Interesting for me  2.3000000000000007\n",
      "Interesting for me  2.400000000000001\n",
      "Interesting for me  2.500000000000001\n",
      "Interesting for me  2.600000000000001\n",
      "Interesting for me  2.700000000000001\n",
      "Interesting for me  2.800000000000001\n",
      "Interesting for me  2.9000000000000012\n",
      "Interesting for me  3.0000000000000013\n",
      "Interesting for me  3.1000000000000014\n",
      "Interesting for me  3.2000000000000015\n",
      "Interesting for me  3.3000000000000016\n",
      "Interesting for me  3.4000000000000017\n",
      "Interesting for me  3.5000000000000018\n",
      "Interesting for me  3.600000000000002\n",
      "Interesting for me  3.700000000000002\n",
      "Interesting for me  3.800000000000002\n",
      "Interesting for me  3.900000000000002\n",
      "Interesting for me  4.000000000000002\n",
      "Interesting for me  4.100000000000001\n",
      "Interesting for me  4.200000000000001\n",
      "Interesting for me  4.300000000000001\n",
      "Interesting for me  4.4\n",
      "Interesting for me  4.5\n",
      "Interesting for me  4.6\n",
      "Interesting for me  4.699999999999999\n",
      "Interesting for me  4.799999999999999\n",
      "Interesting for me  4.899999999999999\n",
      "Interesting for me  4.999999999999998\n",
      "Interesting for me  5.099999999999998\n",
      "Interesting for me  5.1999999999999975\n",
      "Interesting for me  5.299999999999997\n",
      "Interesting for me  5.399999999999997\n",
      "Interesting for me  5.4999999999999964\n",
      "Interesting for me  5.599999999999996\n",
      "Interesting for me  5.699999999999996\n",
      "Interesting for me  5.799999999999995\n",
      "Interesting for me  5.899999999999995\n",
      "Interesting for me  5.999999999999995\n",
      "Interesting for me  6.099999999999994\n",
      "Interesting for me  6.199999999999994\n",
      "Interesting for me  6.299999999999994\n",
      "Interesting for me  6.399999999999993\n",
      "Interesting for me  6.499999999999993\n",
      "Interesting for me  6.5999999999999925\n",
      "Interesting for me  6.699999999999992\n",
      "Interesting for me  6.799999999999992\n",
      "Interesting for me  6.8999999999999915\n",
      "Interesting for me  6.999999999999991\n",
      "Interesting for me  7.099999999999991\n",
      "Interesting for me  7.19999999999999\n",
      "Interesting for me  7.29999999999999\n",
      "Interesting for me  7.39999999999999\n",
      "Interesting for me  7.499999999999989\n",
      "Interesting for me  7.599999999999989\n",
      "Interesting for me  7.699999999999989\n",
      "Interesting for me  7.799999999999988\n",
      "Interesting for me  7.899999999999988\n",
      "Interesting for me  7.999999999999988\n",
      "Interesting for me  8.099999999999987\n",
      "Interesting for me  8.199999999999987\n",
      "Interesting for me  8.299999999999986\n",
      "Interesting for me  8.399999999999986\n",
      "Interesting for me  8.499999999999986\n",
      "Interesting for me  8.599999999999985\n",
      "Interesting for me  8.699999999999985\n",
      "Interesting for me  8.799999999999985\n",
      "Interesting for me  8.899999999999984\n",
      "Interesting for me  8.999999999999984\n",
      "Interesting for me  9.099999999999984\n",
      "Interesting for me  9.199999999999983\n",
      "Interesting for me  9.299999999999983\n",
      "Interesting for me  9.399999999999983\n",
      "Interesting for me  9.499999999999982\n",
      "Interesting for me  9.599999999999982\n",
      "Interesting for me  9.699999999999982\n",
      "Interesting for me  9.799999999999981\n",
      "Interesting for me  9.89999999999998\n",
      "Interesting for me  9.99999999999998\n",
      "Finish\n"
     ]
    }
   ],
   "source": [
    "i = 0\n",
    "while i < 10:\n",
    "   \n",
    "    print (\"Interesting for me \", i)\n",
    "    i = i + 0.1\n",
    "print(\"Finish\")    "
   ]
  },
  {
   "cell_type": "code",
   "execution_count": null,
   "metadata": {},
   "outputs": [],
   "source": []
  }
 ],
 "metadata": {
  "kernelspec": {
   "display_name": "Python 3",
   "language": "python",
   "name": "python3"
  },
  "language_info": {
   "codemirror_mode": {
    "name": "ipython",
    "version": 3
   },
   "file_extension": ".py",
   "mimetype": "text/x-python",
   "name": "python",
   "nbconvert_exporter": "python",
   "pygments_lexer": "ipython3",
   "version": "3.8.2"
  }
 },
 "nbformat": 4,
 "nbformat_minor": 4
}
